{
 "cells": [
  {
   "cell_type": "code",
   "execution_count": 3,
   "metadata": {},
   "outputs": [],
   "source": [
    "%matplotlib inline\n",
    "\n",
    "from parasol.filestructure import FileStructure\n",
    "from parasol.analysis.grapher import Grapher\n",
    "from parasol.analysis.analysis import Analysis\n",
    "\n",
    "import matplotlib as mpl\n",
    "import pandas as pd\n",
    "import numpy as np\n",
    "from matplotlib import pyplot as plt"
   ]
  },
  {
   "cell_type": "code",
   "execution_count": 4,
   "metadata": {},
   "outputs": [],
   "source": [
    "filestructure = FileStructure()\n",
    "grapher = Grapher()\n",
    "analysis = Analysis()"
   ]
  },
  {
   "cell_type": "code",
   "execution_count": 8,
   "metadata": {},
   "outputs": [],
   "source": [
    "root = 'C:\\\\Users\\\\seand\\OneDrive - UC San Diego\\\\Documents\\\\PARASOL\\\\Characterization\\\\x20230710'\n",
    "\n",
    "dates = ['x20230710','x20230717']\n",
    "cells = ['A12D80852','A12D80858', 'A12D80863']\n",
    "\n",
    "test_folders_by_cell = []\n",
    "for cell in cells:\n",
    "    temp = []\n",
    "    for date in dates:\n",
    "        tempstr = root + '\\\\' + date + '\\\\' + date + '_' + cell\n",
    "        temp.append(tempstr)\n",
    "    test_folders_by_cell.append(temp)\n",
    "\n",
    "test_folders_by_date = []\n",
    "for date in dates:\n",
    "    temp = []\n",
    "    for cell in cells:\n",
    "        tempstr = root + '\\\\' + date + '\\\\' + date + '_' + cell\n",
    "        temp.append(tempstr)\n",
    "    test_folders_by_date.append(temp)\n",
    "\n",
    "\n",
    "# analyzed_files = filestructure.get_files(test_folders, \"Analyzed\")\n",
    "# mpp_files = filestructure.get_files(test_folders, \"MPP\")\n",
    "# jv_files = filestructure.get_files(test_folders, \"JV\")"
   ]
  },
  {
   "cell_type": "code",
   "execution_count": null,
   "metadata": {},
   "outputs": [],
   "source": [
    "plt.rcParams[\"figure.figsize\"] = (20,20)\n",
    "figure, axes = plt.subplots(6)\n",
    "\n"
   ]
  }
 ],
 "metadata": {
  "kernelspec": {
   "display_name": "ROOFTOP",
   "language": "python",
   "name": "python3"
  },
  "language_info": {
   "codemirror_mode": {
    "name": "ipython",
    "version": 3
   },
   "file_extension": ".py",
   "mimetype": "text/x-python",
   "name": "python",
   "nbconvert_exporter": "python",
   "pygments_lexer": "ipython3",
   "version": "3.9.12"
  },
  "orig_nbformat": 4
 },
 "nbformat": 4,
 "nbformat_minor": 2
}
